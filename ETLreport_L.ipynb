{
 "cells": [
  {
   "cell_type": "code",
   "execution_count": 7,
   "metadata": {},
   "outputs": [],
   "source": [
    "#import dependencies\n",
    "import pandas as pd\n",
    "import csv\n",
    "from sqlalchemy import create_engine\n",
    "import psycopg2"
   ]
  },
  {
   "cell_type": "markdown",
   "metadata": {},
   "source": [
    "pull data from postgres sql engine - data manually loaded into postgresql db - see schema.sql file "
   ]
  },
  {
   "cell_type": "code",
   "execution_count": 8,
   "metadata": {},
   "outputs": [],
   "source": [
    "#engine = create_engine('postgresql://localhost:5432/social_activity')\n",
    "#conn = psycopg2.connect(\"dbname=social_activity user=user password=password\")"
   ]
  },
  {
   "cell_type": "code",
   "execution_count": 10,
   "metadata": {},
   "outputs": [],
   "source": [
    "facebook = pd.read_sql('select * from facebook', conn)"
   ]
  },
  {
   "cell_type": "code",
   "execution_count": 11,
   "metadata": {},
   "outputs": [
    {
     "data": {
      "text/html": [
       "<div>\n",
       "<style scoped>\n",
       "    .dataframe tbody tr th:only-of-type {\n",
       "        vertical-align: middle;\n",
       "    }\n",
       "\n",
       "    .dataframe tbody tr th {\n",
       "        vertical-align: top;\n",
       "    }\n",
       "\n",
       "    .dataframe thead th {\n",
       "        text-align: right;\n",
       "    }\n",
       "</style>\n",
       "<table border=\"1\" class=\"dataframe\">\n",
       "  <thead>\n",
       "    <tr style=\"text-align: right;\">\n",
       "      <th></th>\n",
       "      <th>id</th>\n",
       "      <th>city</th>\n",
       "      <th>timestamp</th>\n",
       "      <th>latitude</th>\n",
       "      <th>longitude</th>\n",
       "    </tr>\n",
       "  </thead>\n",
       "  <tbody>\n",
       "    <tr>\n",
       "      <th>0</th>\n",
       "      <td>1</td>\n",
       "      <td>Citrus Heights</td>\n",
       "      <td>2019-09-16 20:29:45</td>\n",
       "      <td>38.682044</td>\n",
       "      <td>-121.264957</td>\n",
       "    </tr>\n",
       "    <tr>\n",
       "      <th>1</th>\n",
       "      <td>2</td>\n",
       "      <td>Citrus Heights</td>\n",
       "      <td>2019-09-16 19:57:08</td>\n",
       "      <td>38.678610</td>\n",
       "      <td>-121.262910</td>\n",
       "    </tr>\n",
       "    <tr>\n",
       "      <th>2</th>\n",
       "      <td>3</td>\n",
       "      <td>Citrus Heights</td>\n",
       "      <td>2019-09-16 19:54:51</td>\n",
       "      <td>38.677530</td>\n",
       "      <td>-121.276060</td>\n",
       "    </tr>\n",
       "    <tr>\n",
       "      <th>3</th>\n",
       "      <td>4</td>\n",
       "      <td>Citrus Heights</td>\n",
       "      <td>2019-09-16 18:24:58</td>\n",
       "      <td>38.675670</td>\n",
       "      <td>-121.272360</td>\n",
       "    </tr>\n",
       "    <tr>\n",
       "      <th>4</th>\n",
       "      <td>5</td>\n",
       "      <td>Citrus Heights</td>\n",
       "      <td>2019-09-16 18:06:20</td>\n",
       "      <td>38.679200</td>\n",
       "      <td>-121.265200</td>\n",
       "    </tr>\n",
       "  </tbody>\n",
       "</table>\n",
       "</div>"
      ],
      "text/plain": [
       "   id            city           timestamp   latitude   longitude\n",
       "0   1  Citrus Heights 2019-09-16 20:29:45  38.682044 -121.264957\n",
       "1   2  Citrus Heights 2019-09-16 19:57:08  38.678610 -121.262910\n",
       "2   3  Citrus Heights 2019-09-16 19:54:51  38.677530 -121.276060\n",
       "3   4  Citrus Heights 2019-09-16 18:24:58  38.675670 -121.272360\n",
       "4   5  Citrus Heights 2019-09-16 18:06:20  38.679200 -121.265200"
      ]
     },
     "execution_count": 11,
     "metadata": {},
     "output_type": "execute_result"
    }
   ],
   "source": [
    "facebook.head()"
   ]
  },
  {
   "cell_type": "code",
   "execution_count": 13,
   "metadata": {},
   "outputs": [],
   "source": [
    "google = pd.read_sql('select * from google', conn)"
   ]
  },
  {
   "cell_type": "code",
   "execution_count": 14,
   "metadata": {},
   "outputs": [
    {
     "data": {
      "text/html": [
       "<div>\n",
       "<style scoped>\n",
       "    .dataframe tbody tr th:only-of-type {\n",
       "        vertical-align: middle;\n",
       "    }\n",
       "\n",
       "    .dataframe tbody tr th {\n",
       "        vertical-align: top;\n",
       "    }\n",
       "\n",
       "    .dataframe thead th {\n",
       "        text-align: right;\n",
       "    }\n",
       "</style>\n",
       "<table border=\"1\" class=\"dataframe\">\n",
       "  <thead>\n",
       "    <tr style=\"text-align: right;\">\n",
       "      <th></th>\n",
       "      <th>id</th>\n",
       "      <th>timestamp</th>\n",
       "      <th>latitude</th>\n",
       "      <th>longitude</th>\n",
       "    </tr>\n",
       "  </thead>\n",
       "  <tbody>\n",
       "    <tr>\n",
       "      <th>0</th>\n",
       "      <td>0</td>\n",
       "      <td>2013-05-17 21:25:43</td>\n",
       "      <td>335108462.0</td>\n",
       "      <td>-1.171402e+09</td>\n",
       "    </tr>\n",
       "    <tr>\n",
       "      <th>1</th>\n",
       "      <td>1</td>\n",
       "      <td>2013-05-17 21:26:44</td>\n",
       "      <td>335108474.0</td>\n",
       "      <td>-1.171402e+09</td>\n",
       "    </tr>\n",
       "    <tr>\n",
       "      <th>2</th>\n",
       "      <td>2</td>\n",
       "      <td>2013-05-17 21:29:44</td>\n",
       "      <td>335108506.0</td>\n",
       "      <td>-1.171402e+09</td>\n",
       "    </tr>\n",
       "    <tr>\n",
       "      <th>3</th>\n",
       "      <td>3</td>\n",
       "      <td>2013-05-17 21:31:44</td>\n",
       "      <td>335108266.0</td>\n",
       "      <td>-1.171402e+09</td>\n",
       "    </tr>\n",
       "    <tr>\n",
       "      <th>4</th>\n",
       "      <td>4</td>\n",
       "      <td>2013-05-17 21:32:44</td>\n",
       "      <td>335108221.0</td>\n",
       "      <td>-1.171402e+09</td>\n",
       "    </tr>\n",
       "  </tbody>\n",
       "</table>\n",
       "</div>"
      ],
      "text/plain": [
       "   id           timestamp     latitude     longitude\n",
       "0   0 2013-05-17 21:25:43  335108462.0 -1.171402e+09\n",
       "1   1 2013-05-17 21:26:44  335108474.0 -1.171402e+09\n",
       "2   2 2013-05-17 21:29:44  335108506.0 -1.171402e+09\n",
       "3   3 2013-05-17 21:31:44  335108266.0 -1.171402e+09\n",
       "4   4 2013-05-17 21:32:44  335108221.0 -1.171402e+09"
      ]
     },
     "execution_count": 14,
     "metadata": {},
     "output_type": "execute_result"
    }
   ],
   "source": [
    "google.head()"
   ]
  },
  {
   "cell_type": "markdown",
   "metadata": {},
   "source": [
    "will need to round timestamp to nearest hour in order to match up locations from various social media resrouces "
   ]
  },
  {
   "cell_type": "code",
   "execution_count": null,
   "metadata": {},
   "outputs": [],
   "source": []
  }
 ],
 "metadata": {
  "kernelspec": {
   "display_name": "Python 3",
   "language": "python",
   "name": "python3"
  },
  "language_info": {
   "codemirror_mode": {
    "name": "ipython",
    "version": 3
   },
   "file_extension": ".py",
   "mimetype": "text/x-python",
   "name": "python",
   "nbconvert_exporter": "python",
   "pygments_lexer": "ipython3",
   "version": "3.7.3"
  }
 },
 "nbformat": 4,
 "nbformat_minor": 2
}
